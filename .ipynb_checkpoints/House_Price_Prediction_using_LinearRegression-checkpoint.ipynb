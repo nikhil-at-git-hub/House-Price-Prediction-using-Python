{
 "cells": [
  {
   "cell_type": "code",
   "execution_count": 5,
   "metadata": {},
   "outputs": [],
   "source": [
    "import os\n",
    "import pandas as pd\n",
    "import numpy as np\n",
    "import seaborn as sns"
   ]
  },
  {
   "cell_type": "code",
   "execution_count": 6,
   "metadata": {},
   "outputs": [],
   "source": [
    "# Incraese the print output\n",
    "pd.set_option('display.max_rows', 500)\n",
    "pd.set_option('display.max_columns', 500)\n",
    "pd.set_option('display.width', 1000)"
   ]
  },
  {
   "cell_type": "code",
   "execution_count": 7,
   "metadata": {},
   "outputs": [],
   "source": [
    "# Change working directory\n",
    "os.chdir('C:/Users/nvnik/Desktop/Linear Regression in Python')"
   ]
  },
  {
   "cell_type": "code",
   "execution_count": 8,
   "metadata": {},
   "outputs": [
    {
     "data": {
      "text/plain": [
       "'C:\\\\Users\\\\nvnik\\\\Desktop\\\\Linear Regression in Python'"
      ]
     },
     "execution_count": 8,
     "metadata": {},
     "output_type": "execute_result"
    }
   ],
   "source": [
    "# Presrent working directory\n",
    "os.getcwd()"
   ]
  },
  {
   "cell_type": "code",
   "execution_count": 9,
   "metadata": {},
   "outputs": [],
   "source": [
    "# Read the data\n",
    "rawDF= pd.read_csv(\"PropertyPrice_Data.csv\")\n",
    "predictionDF= pd.read_csv(\"PropertyPrice_Prediction.csv\")"
   ]
  },
  {
   "cell_type": "code",
   "execution_count": 10,
   "metadata": {},
   "outputs": [
    {
     "data": {
      "text/html": [
       "<div>\n",
       "<style scoped>\n",
       "    .dataframe tbody tr th:only-of-type {\n",
       "        vertical-align: middle;\n",
       "    }\n",
       "\n",
       "    .dataframe tbody tr th {\n",
       "        vertical-align: top;\n",
       "    }\n",
       "\n",
       "    .dataframe thead th {\n",
       "        text-align: right;\n",
       "    }\n",
       "</style>\n",
       "<table border=\"1\" class=\"dataframe\">\n",
       "  <thead>\n",
       "    <tr style=\"text-align: right;\">\n",
       "      <th></th>\n",
       "      <th>Id</th>\n",
       "      <th>Road_Type</th>\n",
       "      <th>Property_Shape</th>\n",
       "      <th>House_Type</th>\n",
       "      <th>House_Condition</th>\n",
       "      <th>Construction_Year</th>\n",
       "      <th>Remodel_Year</th>\n",
       "      <th>BsmtFinSF1</th>\n",
       "      <th>Total_Basement_Area</th>\n",
       "      <th>Air_Conditioning</th>\n",
       "      <th>First_Floor_Area</th>\n",
       "      <th>Second_Floor_Area</th>\n",
       "      <th>LowQualFinSF</th>\n",
       "      <th>Underground_Full_Bathroom</th>\n",
       "      <th>Full_Bathroom_Above_Grade</th>\n",
       "      <th>Bedroom_Above_Grade</th>\n",
       "      <th>Kitchen_Quality</th>\n",
       "      <th>Rooms_Above_Grade</th>\n",
       "      <th>Fireplaces</th>\n",
       "      <th>Garage</th>\n",
       "      <th>Garage_Built_Year</th>\n",
       "      <th>Garage_Area</th>\n",
       "      <th>Pool_Area</th>\n",
       "      <th>Miscellaneous_Value</th>\n",
       "      <th>Year_Sold</th>\n",
       "      <th>Sale_Price</th>\n",
       "    </tr>\n",
       "  </thead>\n",
       "  <tbody>\n",
       "    <tr>\n",
       "      <th>0</th>\n",
       "      <td>1</td>\n",
       "      <td>Paved</td>\n",
       "      <td>Reg</td>\n",
       "      <td>1Fam</td>\n",
       "      <td>5</td>\n",
       "      <td>2003</td>\n",
       "      <td>2003</td>\n",
       "      <td>706</td>\n",
       "      <td>856</td>\n",
       "      <td>Y</td>\n",
       "      <td>856</td>\n",
       "      <td>854</td>\n",
       "      <td>0</td>\n",
       "      <td>1</td>\n",
       "      <td>2</td>\n",
       "      <td>3</td>\n",
       "      <td>Gd</td>\n",
       "      <td>8</td>\n",
       "      <td>0</td>\n",
       "      <td>Attchd</td>\n",
       "      <td>2003.0</td>\n",
       "      <td>1085.793744</td>\n",
       "      <td>0</td>\n",
       "      <td>0</td>\n",
       "      <td>2008</td>\n",
       "      <td>208500</td>\n",
       "    </tr>\n",
       "    <tr>\n",
       "      <th>1</th>\n",
       "      <td>2</td>\n",
       "      <td>Paved</td>\n",
       "      <td>Reg</td>\n",
       "      <td>1Fam</td>\n",
       "      <td>8</td>\n",
       "      <td>1976</td>\n",
       "      <td>1976</td>\n",
       "      <td>978</td>\n",
       "      <td>1262</td>\n",
       "      <td>Y</td>\n",
       "      <td>1262</td>\n",
       "      <td>0</td>\n",
       "      <td>0</td>\n",
       "      <td>0</td>\n",
       "      <td>2</td>\n",
       "      <td>3</td>\n",
       "      <td>TA</td>\n",
       "      <td>6</td>\n",
       "      <td>1</td>\n",
       "      <td>Attchd</td>\n",
       "      <td>1976.0</td>\n",
       "      <td>196.316304</td>\n",
       "      <td>0</td>\n",
       "      <td>0</td>\n",
       "      <td>2007</td>\n",
       "      <td>181500</td>\n",
       "    </tr>\n",
       "    <tr>\n",
       "      <th>2</th>\n",
       "      <td>3</td>\n",
       "      <td>Paved</td>\n",
       "      <td>IR1</td>\n",
       "      <td>1Fam</td>\n",
       "      <td>5</td>\n",
       "      <td>2001</td>\n",
       "      <td>2002</td>\n",
       "      <td>486</td>\n",
       "      <td>920</td>\n",
       "      <td>Y</td>\n",
       "      <td>920</td>\n",
       "      <td>866</td>\n",
       "      <td>0</td>\n",
       "      <td>1</td>\n",
       "      <td>2</td>\n",
       "      <td>3</td>\n",
       "      <td>Gd</td>\n",
       "      <td>6</td>\n",
       "      <td>1</td>\n",
       "      <td>Attchd</td>\n",
       "      <td>2001.0</td>\n",
       "      <td>218.068403</td>\n",
       "      <td>0</td>\n",
       "      <td>0</td>\n",
       "      <td>2008</td>\n",
       "      <td>223500</td>\n",
       "    </tr>\n",
       "    <tr>\n",
       "      <th>3</th>\n",
       "      <td>4</td>\n",
       "      <td>Paved</td>\n",
       "      <td>IR1</td>\n",
       "      <td>1Fam</td>\n",
       "      <td>5</td>\n",
       "      <td>1915</td>\n",
       "      <td>1970</td>\n",
       "      <td>216</td>\n",
       "      <td>756</td>\n",
       "      <td>Y</td>\n",
       "      <td>961</td>\n",
       "      <td>756</td>\n",
       "      <td>0</td>\n",
       "      <td>1</td>\n",
       "      <td>1</td>\n",
       "      <td>3</td>\n",
       "      <td>Gd</td>\n",
       "      <td>7</td>\n",
       "      <td>1</td>\n",
       "      <td>Detchd</td>\n",
       "      <td>1998.0</td>\n",
       "      <td>696.996439</td>\n",
       "      <td>0</td>\n",
       "      <td>0</td>\n",
       "      <td>2006</td>\n",
       "      <td>140000</td>\n",
       "    </tr>\n",
       "    <tr>\n",
       "      <th>4</th>\n",
       "      <td>5</td>\n",
       "      <td>Paved</td>\n",
       "      <td>IR1</td>\n",
       "      <td>1Fam</td>\n",
       "      <td>5</td>\n",
       "      <td>2000</td>\n",
       "      <td>2000</td>\n",
       "      <td>655</td>\n",
       "      <td>1145</td>\n",
       "      <td>Y</td>\n",
       "      <td>1145</td>\n",
       "      <td>1053</td>\n",
       "      <td>0</td>\n",
       "      <td>1</td>\n",
       "      <td>2</td>\n",
       "      <td>4</td>\n",
       "      <td>Gd</td>\n",
       "      <td>9</td>\n",
       "      <td>1</td>\n",
       "      <td>Attchd</td>\n",
       "      <td>2000.0</td>\n",
       "      <td>568.859882</td>\n",
       "      <td>0</td>\n",
       "      <td>0</td>\n",
       "      <td>2008</td>\n",
       "      <td>250000</td>\n",
       "    </tr>\n",
       "  </tbody>\n",
       "</table>\n",
       "</div>"
      ],
      "text/plain": [
       "   Id Road_Type Property_Shape House_Type  House_Condition  Construction_Year  Remodel_Year  BsmtFinSF1  Total_Basement_Area Air_Conditioning  First_Floor_Area  Second_Floor_Area  LowQualFinSF  Underground_Full_Bathroom  Full_Bathroom_Above_Grade  Bedroom_Above_Grade Kitchen_Quality  Rooms_Above_Grade  Fireplaces  Garage  Garage_Built_Year  Garage_Area  Pool_Area  Miscellaneous_Value  Year_Sold  Sale_Price\n",
       "0   1     Paved            Reg       1Fam                5               2003          2003         706                  856                Y               856                854             0                          1                          2                    3              Gd                  8           0  Attchd             2003.0  1085.793744          0                    0       2008      208500\n",
       "1   2     Paved            Reg       1Fam                8               1976          1976         978                 1262                Y              1262                  0             0                          0                          2                    3              TA                  6           1  Attchd             1976.0   196.316304          0                    0       2007      181500\n",
       "2   3     Paved            IR1       1Fam                5               2001          2002         486                  920                Y               920                866             0                          1                          2                    3              Gd                  6           1  Attchd             2001.0   218.068403          0                    0       2008      223500\n",
       "3   4     Paved            IR1       1Fam                5               1915          1970         216                  756                Y               961                756             0                          1                          1                    3              Gd                  7           1  Detchd             1998.0   696.996439          0                    0       2006      140000\n",
       "4   5     Paved            IR1       1Fam                5               2000          2000         655                 1145                Y              1145               1053             0                          1                          2                    4              Gd                  9           1  Attchd             2000.0   568.859882          0                    0       2008      250000"
      ]
     },
     "execution_count": 10,
     "metadata": {},
     "output_type": "execute_result"
    }
   ],
   "source": [
    "rawDF.head()"
   ]
  },
  {
   "cell_type": "code",
   "execution_count": 11,
   "metadata": {},
   "outputs": [
    {
     "data": {
      "text/html": [
       "<div>\n",
       "<style scoped>\n",
       "    .dataframe tbody tr th:only-of-type {\n",
       "        vertical-align: middle;\n",
       "    }\n",
       "\n",
       "    .dataframe tbody tr th {\n",
       "        vertical-align: top;\n",
       "    }\n",
       "\n",
       "    .dataframe thead th {\n",
       "        text-align: right;\n",
       "    }\n",
       "</style>\n",
       "<table border=\"1\" class=\"dataframe\">\n",
       "  <thead>\n",
       "    <tr style=\"text-align: right;\">\n",
       "      <th></th>\n",
       "      <th>Id</th>\n",
       "      <th>Road_Type</th>\n",
       "      <th>Property_Shape</th>\n",
       "      <th>House_Type</th>\n",
       "      <th>House_Condition</th>\n",
       "      <th>Construction_Year</th>\n",
       "      <th>Remodel_Year</th>\n",
       "      <th>BsmtFinSF1</th>\n",
       "      <th>Total_Basement_Area</th>\n",
       "      <th>Air_Conditioning</th>\n",
       "      <th>First_Floor_Area</th>\n",
       "      <th>Second_Floor_Area</th>\n",
       "      <th>LowQualFinSF</th>\n",
       "      <th>Underground_Full_Bathroom</th>\n",
       "      <th>Full_Bathroom_Above_Grade</th>\n",
       "      <th>Bedroom_Above_Grade</th>\n",
       "      <th>Kitchen_Quality</th>\n",
       "      <th>Rooms_Above_Grade</th>\n",
       "      <th>Fireplaces</th>\n",
       "      <th>Garage</th>\n",
       "      <th>Garage_Built_Year</th>\n",
       "      <th>Garage_Area</th>\n",
       "      <th>Pool_Area</th>\n",
       "      <th>Miscellaneous_Value</th>\n",
       "      <th>Year_Sold</th>\n",
       "      <th>Sale_Price</th>\n",
       "    </tr>\n",
       "  </thead>\n",
       "  <tbody>\n",
       "    <tr>\n",
       "      <th>0</th>\n",
       "      <td>1461</td>\n",
       "      <td>Paved</td>\n",
       "      <td>Reg</td>\n",
       "      <td>1Fam</td>\n",
       "      <td>6</td>\n",
       "      <td>1961</td>\n",
       "      <td>1961</td>\n",
       "      <td>468</td>\n",
       "      <td>882</td>\n",
       "      <td>Y</td>\n",
       "      <td>896</td>\n",
       "      <td>0</td>\n",
       "      <td>0</td>\n",
       "      <td>0</td>\n",
       "      <td>1</td>\n",
       "      <td>2</td>\n",
       "      <td>TA</td>\n",
       "      <td>5</td>\n",
       "      <td>0</td>\n",
       "      <td>Attchd</td>\n",
       "      <td>1961.0</td>\n",
       "      <td>730</td>\n",
       "      <td>0</td>\n",
       "      <td>0</td>\n",
       "      <td>2010</td>\n",
       "      <td>NaN</td>\n",
       "    </tr>\n",
       "    <tr>\n",
       "      <th>1</th>\n",
       "      <td>1462</td>\n",
       "      <td>Paved</td>\n",
       "      <td>IR1</td>\n",
       "      <td>1Fam</td>\n",
       "      <td>6</td>\n",
       "      <td>1958</td>\n",
       "      <td>1958</td>\n",
       "      <td>923</td>\n",
       "      <td>1329</td>\n",
       "      <td>Y</td>\n",
       "      <td>1329</td>\n",
       "      <td>0</td>\n",
       "      <td>0</td>\n",
       "      <td>0</td>\n",
       "      <td>1</td>\n",
       "      <td>3</td>\n",
       "      <td>Gd</td>\n",
       "      <td>6</td>\n",
       "      <td>0</td>\n",
       "      <td>Attchd</td>\n",
       "      <td>1958.0</td>\n",
       "      <td>312</td>\n",
       "      <td>0</td>\n",
       "      <td>12500</td>\n",
       "      <td>2010</td>\n",
       "      <td>NaN</td>\n",
       "    </tr>\n",
       "    <tr>\n",
       "      <th>2</th>\n",
       "      <td>1463</td>\n",
       "      <td>Paved</td>\n",
       "      <td>IR1</td>\n",
       "      <td>1Fam</td>\n",
       "      <td>5</td>\n",
       "      <td>1997</td>\n",
       "      <td>1998</td>\n",
       "      <td>791</td>\n",
       "      <td>928</td>\n",
       "      <td>Y</td>\n",
       "      <td>928</td>\n",
       "      <td>701</td>\n",
       "      <td>0</td>\n",
       "      <td>0</td>\n",
       "      <td>2</td>\n",
       "      <td>3</td>\n",
       "      <td>TA</td>\n",
       "      <td>6</td>\n",
       "      <td>1</td>\n",
       "      <td>Attchd</td>\n",
       "      <td>1997.0</td>\n",
       "      <td>482</td>\n",
       "      <td>0</td>\n",
       "      <td>0</td>\n",
       "      <td>2010</td>\n",
       "      <td>NaN</td>\n",
       "    </tr>\n",
       "    <tr>\n",
       "      <th>3</th>\n",
       "      <td>1464</td>\n",
       "      <td>Paved</td>\n",
       "      <td>IR1</td>\n",
       "      <td>1Fam</td>\n",
       "      <td>6</td>\n",
       "      <td>1998</td>\n",
       "      <td>1998</td>\n",
       "      <td>602</td>\n",
       "      <td>926</td>\n",
       "      <td>Y</td>\n",
       "      <td>926</td>\n",
       "      <td>678</td>\n",
       "      <td>0</td>\n",
       "      <td>0</td>\n",
       "      <td>2</td>\n",
       "      <td>3</td>\n",
       "      <td>Gd</td>\n",
       "      <td>7</td>\n",
       "      <td>1</td>\n",
       "      <td>Attchd</td>\n",
       "      <td>1998.0</td>\n",
       "      <td>470</td>\n",
       "      <td>0</td>\n",
       "      <td>0</td>\n",
       "      <td>2010</td>\n",
       "      <td>NaN</td>\n",
       "    </tr>\n",
       "    <tr>\n",
       "      <th>4</th>\n",
       "      <td>1465</td>\n",
       "      <td>Paved</td>\n",
       "      <td>IR1</td>\n",
       "      <td>TwnhsE</td>\n",
       "      <td>5</td>\n",
       "      <td>1992</td>\n",
       "      <td>1992</td>\n",
       "      <td>263</td>\n",
       "      <td>1280</td>\n",
       "      <td>Y</td>\n",
       "      <td>1280</td>\n",
       "      <td>0</td>\n",
       "      <td>0</td>\n",
       "      <td>0</td>\n",
       "      <td>2</td>\n",
       "      <td>2</td>\n",
       "      <td>Gd</td>\n",
       "      <td>5</td>\n",
       "      <td>0</td>\n",
       "      <td>Attchd</td>\n",
       "      <td>1992.0</td>\n",
       "      <td>506</td>\n",
       "      <td>0</td>\n",
       "      <td>0</td>\n",
       "      <td>2010</td>\n",
       "      <td>NaN</td>\n",
       "    </tr>\n",
       "  </tbody>\n",
       "</table>\n",
       "</div>"
      ],
      "text/plain": [
       "     Id Road_Type Property_Shape House_Type  House_Condition  Construction_Year  Remodel_Year  BsmtFinSF1  Total_Basement_Area Air_Conditioning  First_Floor_Area  Second_Floor_Area  LowQualFinSF  Underground_Full_Bathroom  Full_Bathroom_Above_Grade  Bedroom_Above_Grade Kitchen_Quality  Rooms_Above_Grade  Fireplaces  Garage  Garage_Built_Year  Garage_Area  Pool_Area  Miscellaneous_Value  Year_Sold  Sale_Price\n",
       "0  1461     Paved            Reg       1Fam                6               1961          1961         468                  882                Y               896                  0             0                          0                          1                    2              TA                  5           0  Attchd             1961.0          730          0                    0       2010         NaN\n",
       "1  1462     Paved            IR1       1Fam                6               1958          1958         923                 1329                Y              1329                  0             0                          0                          1                    3              Gd                  6           0  Attchd             1958.0          312          0                12500       2010         NaN\n",
       "2  1463     Paved            IR1       1Fam                5               1997          1998         791                  928                Y               928                701             0                          0                          2                    3              TA                  6           1  Attchd             1997.0          482          0                    0       2010         NaN\n",
       "3  1464     Paved            IR1       1Fam                6               1998          1998         602                  926                Y               926                678             0                          0                          2                    3              Gd                  7           1  Attchd             1998.0          470          0                    0       2010         NaN\n",
       "4  1465     Paved            IR1     TwnhsE                5               1992          1992         263                 1280                Y              1280                  0             0                          0                          2                    2              Gd                  5           0  Attchd             1992.0          506          0                    0       2010         NaN"
      ]
     },
     "execution_count": 11,
     "metadata": {},
     "output_type": "execute_result"
    }
   ],
   "source": [
    "predictionDF.head()"
   ]
  },
  {
   "cell_type": "code",
   "execution_count": 12,
   "metadata": {},
   "outputs": [],
   "source": [
    "# Before we do anything, we need to divide our Raw Data into train and test sets (validation)\n",
    "from sklearn.model_selection import train_test_split\n",
    "\n",
    "trainDF, testDF = train_test_split(rawDF, train_size=0.8, test_size=0.2, random_state=150)"
   ]
  },
  {
   "cell_type": "code",
   "execution_count": 13,
   "metadata": {},
   "outputs": [
    {
     "name": "stderr",
     "output_type": "stream",
     "text": [
      "C:\\Users\\nvnik\\Anaconda3\\lib\\site-packages\\ipykernel_launcher.py:3: SettingWithCopyWarning: \n",
      "A value is trying to be set on a copy of a slice from a DataFrame.\n",
      "Try using .loc[row_indexer,col_indexer] = value instead\n",
      "\n",
      "See the caveats in the documentation: http://pandas.pydata.org/pandas-docs/stable/indexing.html#indexing-view-versus-copy\n",
      "  This is separate from the ipykernel package so we can avoid doing imports until\n",
      "C:\\Users\\nvnik\\Anaconda3\\lib\\site-packages\\ipykernel_launcher.py:4: SettingWithCopyWarning: \n",
      "A value is trying to be set on a copy of a slice from a DataFrame.\n",
      "Try using .loc[row_indexer,col_indexer] = value instead\n",
      "\n",
      "See the caveats in the documentation: http://pandas.pydata.org/pandas-docs/stable/indexing.html#indexing-view-versus-copy\n",
      "  after removing the cwd from sys.path.\n"
     ]
    }
   ],
   "source": [
    "# Create Source Column in both Train and Test\n",
    "\n",
    "trainDF['Source'] = 'Train'\n",
    "testDF['Source'] = 'Test'\n",
    "predictionDF['Source'] = 'Prediction'"
   ]
  },
  {
   "cell_type": "code",
   "execution_count": 14,
   "metadata": {},
   "outputs": [
    {
     "data": {
      "text/plain": [
       "(2918, 27)"
      ]
     },
     "execution_count": 14,
     "metadata": {},
     "output_type": "execute_result"
    }
   ],
   "source": [
    "# Combine Train and Test\n",
    "\n",
    "fullRaw = pd.concat([trainDF, testDF, predictionDF], axis=0)\n",
    "fullRaw.shape"
   ]
  },
  {
   "cell_type": "code",
   "execution_count": 15,
   "metadata": {},
   "outputs": [],
   "source": [
    "# Lets drop \"Id\" column from the data as it is not going to assist us in our model\n",
    "\n",
    "fullRaw = fullRaw.drop(['Id'], axis=1)\n"
   ]
  },
  {
   "cell_type": "code",
   "execution_count": 16,
   "metadata": {},
   "outputs": [
    {
     "data": {
      "text/plain": [
       "Road_Type                     object\n",
       "Property_Shape                object\n",
       "House_Type                    object\n",
       "House_Condition                int64\n",
       "Construction_Year              int64\n",
       "Remodel_Year                   int64\n",
       "BsmtFinSF1                     int64\n",
       "Total_Basement_Area            int64\n",
       "Air_Conditioning              object\n",
       "First_Floor_Area               int64\n",
       "Second_Floor_Area              int64\n",
       "LowQualFinSF                   int64\n",
       "Underground_Full_Bathroom      int64\n",
       "Full_Bathroom_Above_Grade      int64\n",
       "Bedroom_Above_Grade            int64\n",
       "Kitchen_Quality               object\n",
       "Rooms_Above_Grade              int64\n",
       "Fireplaces                     int64\n",
       "Garage                        object\n",
       "Garage_Built_Year            float64\n",
       "Garage_Area                  float64\n",
       "Pool_Area                      int64\n",
       "Miscellaneous_Value            int64\n",
       "Year_Sold                      int64\n",
       "Sale_Price                   float64\n",
       "Source                        object\n",
       "dtype: object"
      ]
     },
     "execution_count": 16,
     "metadata": {},
     "output_type": "execute_result"
    }
   ],
   "source": [
    "# Check the data types of variavbles\n",
    "fullRaw.dtypes"
   ]
  },
  {
   "cell_type": "code",
   "execution_count": 17,
   "metadata": {},
   "outputs": [
    {
     "data": {
      "text/plain": [
       "Road_Type                       0\n",
       "Property_Shape                  0\n",
       "House_Type                      0\n",
       "House_Condition                 0\n",
       "Construction_Year               0\n",
       "Remodel_Year                    0\n",
       "BsmtFinSF1                      0\n",
       "Total_Basement_Area             0\n",
       "Air_Conditioning                0\n",
       "First_Floor_Area                0\n",
       "Second_Floor_Area               0\n",
       "LowQualFinSF                    0\n",
       "Underground_Full_Bathroom       0\n",
       "Full_Bathroom_Above_Grade       0\n",
       "Bedroom_Above_Grade             0\n",
       "Kitchen_Quality                 0\n",
       "Rooms_Above_Grade               0\n",
       "Fireplaces                      0\n",
       "Garage                        157\n",
       "Garage_Built_Year             159\n",
       "Garage_Area                     0\n",
       "Pool_Area                       0\n",
       "Miscellaneous_Value             0\n",
       "Year_Sold                       0\n",
       "Sale_Price                   1459\n",
       "Source                          0\n",
       "dtype: int64"
      ]
     },
     "execution_count": 17,
     "metadata": {},
     "output_type": "execute_result"
    }
   ],
   "source": [
    "fullRaw.isnull().sum()"
   ]
  },
  {
   "cell_type": "code",
   "execution_count": 18,
   "metadata": {},
   "outputs": [],
   "source": [
    "#Univariate analysis (Missing value Imputation)\n",
    "\n",
    "# Garage: Categorical vaiable\n",
    "\n",
    "tempMode= fullRaw.loc[fullRaw['Source'] == 'Train', 'Garage']"
   ]
  },
  {
   "cell_type": "code",
   "execution_count": 19,
   "metadata": {},
   "outputs": [
    {
     "data": {
      "text/plain": [
       "56       Attchd\n",
       "392      Attchd\n",
       "176      Attchd\n",
       "342      Detchd\n",
       "446      Attchd\n",
       "31       Attchd\n",
       "286      Attchd\n",
       "1282     Detchd\n",
       "859      Attchd\n",
       "882     BuiltIn\n",
       "278      Attchd\n",
       "60       Detchd\n",
       "267      Detchd\n",
       "1070     Attchd\n",
       "1133     Attchd\n",
       "642      Attchd\n",
       "3        Detchd\n",
       "472     Basment\n",
       "447      Attchd\n",
       "322      Attchd\n",
       "178      Attchd\n",
       "1329     Attchd\n",
       "1297    Basment\n",
       "136      Attchd\n",
       "715      Attchd\n",
       "222      Attchd\n",
       "1148     Detchd\n",
       "984      Attchd\n",
       "1097     Attchd\n",
       "967      Attchd\n",
       "161     BuiltIn\n",
       "801      Detchd\n",
       "747      Detchd\n",
       "1172     Detchd\n",
       "358     BuiltIn\n",
       "1045     Attchd\n",
       "853      Attchd\n",
       "1455     Attchd\n",
       "1416     Detchd\n",
       "904      Attchd\n",
       "1457     Attchd\n",
       "378      Attchd\n",
       "480      Attchd\n",
       "1079     Attchd\n",
       "90       Detchd\n",
       "1118    BuiltIn\n",
       "1405     Attchd\n",
       "697      Detchd\n",
       "122      Attchd\n",
       "421      Attchd\n",
       "718      Attchd\n",
       "553      Detchd\n",
       "1024     Attchd\n",
       "398      Detchd\n",
       "259      Detchd\n",
       "529      Attchd\n",
       "313      Attchd\n",
       "0        Attchd\n",
       "974      Detchd\n",
       "454      Detchd\n",
       "348     BuiltIn\n",
       "1165     Attchd\n",
       "1028     Attchd\n",
       "1253     Attchd\n",
       "1377     Detchd\n",
       "584      Detchd\n",
       "878      Detchd\n",
       "1196    BuiltIn\n",
       "1        Attchd\n",
       "962      Detchd\n",
       "1302     Attchd\n",
       "6        Attchd\n",
       "855      Detchd\n",
       "958      Attchd\n",
       "839      Detchd\n",
       "469      Attchd\n",
       "816      Attchd\n",
       "1143        NaN\n",
       "1119     Attchd\n",
       "926     BuiltIn\n",
       "58      BuiltIn\n",
       "559      Attchd\n",
       "1447     Attchd\n",
       "854      Attchd\n",
       "1157     Attchd\n",
       "1078     Attchd\n",
       "393         NaN\n",
       "802      Attchd\n",
       "663      Detchd\n",
       "711      Detchd\n",
       "964     BuiltIn\n",
       "1198     Attchd\n",
       "62       Attchd\n",
       "451      Attchd\n",
       "475      Detchd\n",
       "1120     Detchd\n",
       "1248     Detchd\n",
       "1194     Attchd\n",
       "246      Detchd\n",
       "1123        NaN\n",
       "1211    Basment\n",
       "1228     Attchd\n",
       "829      Detchd\n",
       "129       2TFes\n",
       "236      Attchd\n",
       "699      Attchd\n",
       "1262     Attchd\n",
       "113     Basment\n",
       "896      Detchd\n",
       "406      Detchd\n",
       "243      Attchd\n",
       "562         NaN\n",
       "139      Attchd\n",
       "924      Attchd\n",
       "219      Attchd\n",
       "1417     Attchd\n",
       "843         NaN\n",
       "820      Attchd\n",
       "1375     Attchd\n",
       "938      Attchd\n",
       "651      Detchd\n",
       "1346     Attchd\n",
       "198         NaN\n",
       "705         NaN\n",
       "937      Attchd\n",
       "423      Attchd\n",
       "858      Attchd\n",
       "282      Attchd\n",
       "1446     Attchd\n",
       "250         NaN\n",
       "936      Attchd\n",
       "309      Attchd\n",
       "320      Attchd\n",
       "315      Attchd\n",
       "799      Detchd\n",
       "119      Attchd\n",
       "220      Attchd\n",
       "1439     Attchd\n",
       "847      Attchd\n",
       "631      Attchd\n",
       "1426     Attchd\n",
       "793      Attchd\n",
       "147     BuiltIn\n",
       "48          NaN\n",
       "495         NaN\n",
       "1022     Detchd\n",
       "397      Attchd\n",
       "266      Attchd\n",
       "103      Attchd\n",
       "681      Detchd\n",
       "1081     Attchd\n",
       "1295     Attchd\n",
       "903      Attchd\n",
       "514      Detchd\n",
       "305      Attchd\n",
       "353      Detchd\n",
       "59       Detchd\n",
       "640      Attchd\n",
       "800      Attchd\n",
       "646      Detchd\n",
       "1381     Attchd\n",
       "1361     Attchd\n",
       "476      Attchd\n",
       "17      CarPort\n",
       "159      Attchd\n",
       "1367     Attchd\n",
       "545      Attchd\n",
       "1449        NaN\n",
       "1397     Detchd\n",
       "1398     Attchd\n",
       "1380     Detchd\n",
       "1183     Detchd\n",
       "965      Attchd\n",
       "231      Attchd\n",
       "1244     Detchd\n",
       "632      Attchd\n",
       "1002     Attchd\n",
       "1284     Detchd\n",
       "725      Detchd\n",
       "432      Detchd\n",
       "1328     Detchd\n",
       "400      Attchd\n",
       "734      Attchd\n",
       "1014     Detchd\n",
       "1340     Detchd\n",
       "1336     Detchd\n",
       "720      Attchd\n",
       "1003     Detchd\n",
       "1348     Attchd\n",
       "587      Detchd\n",
       "490     BuiltIn\n",
       "989      Attchd\n",
       "171      Attchd\n",
       "487      Attchd\n",
       "1026     Attchd\n",
       "151      Attchd\n",
       "886      Attchd\n",
       "571      Attchd\n",
       "959      Detchd\n",
       "66       Attchd\n",
       "462      Detchd\n",
       "168      Attchd\n",
       "610      Attchd\n",
       "1243     Attchd\n",
       "1096        NaN\n",
       "285      Detchd\n",
       "971     BuiltIn\n",
       "813      Attchd\n",
       "1223     Detchd\n",
       "1061     Detchd\n",
       "771      Detchd\n",
       "641      Attchd\n",
       "85       Attchd\n",
       "195      Attchd\n",
       "500      Detchd\n",
       "185      Detchd\n",
       "1307     Detchd\n",
       "822     BuiltIn\n",
       "590      Attchd\n",
       "1106     Attchd\n",
       "174      Attchd\n",
       "657      Attchd\n",
       "275      Detchd\n",
       "1230    BuiltIn\n",
       "1342     Attchd\n",
       "112     BuiltIn\n",
       "276      Attchd\n",
       "1055     Attchd\n",
       "1425     Detchd\n",
       "157     BuiltIn\n",
       "649         NaN\n",
       "953      Attchd\n",
       "1240     Attchd\n",
       "310      Attchd\n",
       "644      Attchd\n",
       "1251     Attchd\n",
       "574     BuiltIn\n",
       "686      Attchd\n",
       "338      Attchd\n",
       "440      Attchd\n",
       "464         NaN\n",
       "1162     Attchd\n",
       "274      Attchd\n",
       "944     Basment\n",
       "1082     Attchd\n",
       "991      Attchd\n",
       "786      Detchd\n",
       "1424     Detchd\n",
       "34       Attchd\n",
       "565      Detchd\n",
       "         ...   \n",
       "91       Attchd\n",
       "791      Attchd\n",
       "9        Attchd\n",
       "1383     Attchd\n",
       "722      Detchd\n",
       "1033     Attchd\n",
       "1215     Detchd\n",
       "1206     Detchd\n",
       "1341     Detchd\n",
       "526      Attchd\n",
       "387      Detchd\n",
       "867      Attchd\n",
       "1220     Attchd\n",
       "1042     Attchd\n",
       "149      Detchd\n",
       "39          NaN\n",
       "1013     Detchd\n",
       "424      Attchd\n",
       "146      Detchd\n",
       "1190      2TFes\n",
       "1137        NaN\n",
       "459      Detchd\n",
       "110      Attchd\n",
       "415      Attchd\n",
       "597      Attchd\n",
       "1015     Attchd\n",
       "361      Detchd\n",
       "1232    CarPort\n",
       "148         NaN\n",
       "759      Attchd\n",
       "394      Detchd\n",
       "288      Detchd\n",
       "1201     Attchd\n",
       "271      Attchd\n",
       "928      Attchd\n",
       "841      Detchd\n",
       "438      Detchd\n",
       "757      Attchd\n",
       "1192     Detchd\n",
       "752      Attchd\n",
       "503      Attchd\n",
       "698      Detchd\n",
       "531      Detchd\n",
       "1050     Attchd\n",
       "221     BuiltIn\n",
       "540      Attchd\n",
       "196      Attchd\n",
       "1182     Attchd\n",
       "73       Attchd\n",
       "701      Attchd\n",
       "760      Detchd\n",
       "100      Attchd\n",
       "1357     Attchd\n",
       "600     BuiltIn\n",
       "1429     Attchd\n",
       "1001     Detchd\n",
       "534      Attchd\n",
       "287         NaN\n",
       "44       Attchd\n",
       "1313    BuiltIn\n",
       "163         NaN\n",
       "216      Attchd\n",
       "979      Detchd\n",
       "1314     Detchd\n",
       "355      Attchd\n",
       "13       Attchd\n",
       "1150     Attchd\n",
       "1269     Attchd\n",
       "911      Detchd\n",
       "860      Detchd\n",
       "453      Attchd\n",
       "1083     Attchd\n",
       "719      Attchd\n",
       "169      Attchd\n",
       "1400    BuiltIn\n",
       "875     BuiltIn\n",
       "416      Attchd\n",
       "1382     Detchd\n",
       "599      Attchd\n",
       "834      Attchd\n",
       "856      Detchd\n",
       "209      Attchd\n",
       "38       Detchd\n",
       "543      Attchd\n",
       "1362     Attchd\n",
       "522      Detchd\n",
       "736      Detchd\n",
       "838      Attchd\n",
       "1153     Detchd\n",
       "1432     Detchd\n",
       "508      Detchd\n",
       "277      Detchd\n",
       "197      Detchd\n",
       "921         NaN\n",
       "386         NaN\n",
       "396      Detchd\n",
       "131     BuiltIn\n",
       "206      Attchd\n",
       "1072     Detchd\n",
       "368      Attchd\n",
       "422      Attchd\n",
       "1029     Detchd\n",
       "1076     Attchd\n",
       "515      Attchd\n",
       "1043     Attchd\n",
       "569      Detchd\n",
       "140         NaN\n",
       "1012     Detchd\n",
       "696      Detchd\n",
       "284      Attchd\n",
       "945      Detchd\n",
       "809      Detchd\n",
       "249      Attchd\n",
       "690      Attchd\n",
       "608     Basment\n",
       "403     BuiltIn\n",
       "239      Detchd\n",
       "324     BuiltIn\n",
       "117      Attchd\n",
       "779      Attchd\n",
       "1242     Attchd\n",
       "981      Attchd\n",
       "308      Detchd\n",
       "837      Detchd\n",
       "229      Attchd\n",
       "208      Attchd\n",
       "766      Attchd\n",
       "671      Detchd\n",
       "204      Detchd\n",
       "345      Detchd\n",
       "1373     Attchd\n",
       "154      Detchd\n",
       "823      Detchd\n",
       "675      Attchd\n",
       "702     BuiltIn\n",
       "214      Attchd\n",
       "1124     Attchd\n",
       "1406     Detchd\n",
       "674      Attchd\n",
       "1310     Attchd\n",
       "811      Attchd\n",
       "20      BuiltIn\n",
       "233      Attchd\n",
       "609      Attchd\n",
       "317      Attchd\n",
       "330      Detchd\n",
       "488      Attchd\n",
       "180      Detchd\n",
       "404     BuiltIn\n",
       "290      Attchd\n",
       "1227     Detchd\n",
       "1219        NaN\n",
       "563      Detchd\n",
       "536      Attchd\n",
       "516      Attchd\n",
       "1069     Detchd\n",
       "67       Attchd\n",
       "1156     Attchd\n",
       "134      Attchd\n",
       "972      Attchd\n",
       "1391     Detchd\n",
       "1428     Attchd\n",
       "429      Attchd\n",
       "1415     Attchd\n",
       "118      Attchd\n",
       "1217     Attchd\n",
       "509      Attchd\n",
       "891      Attchd\n",
       "354      Attchd\n",
       "57       Attchd\n",
       "1353     Attchd\n",
       "1101     Detchd\n",
       "108         NaN\n",
       "1278     Attchd\n",
       "848      Detchd\n",
       "634      Detchd\n",
       "409      Attchd\n",
       "1210     Attchd\n",
       "373      Attchd\n",
       "29       Detchd\n",
       "311      Detchd\n",
       "1208     Detchd\n",
       "894      Attchd\n",
       "1161     Detchd\n",
       "293      Attchd\n",
       "1025     Detchd\n",
       "1324     Attchd\n",
       "970         NaN\n",
       "22       Attchd\n",
       "775      Attchd\n",
       "450      Detchd\n",
       "402      Detchd\n",
       "1048     Attchd\n",
       "745     BuiltIn\n",
       "217      Detchd\n",
       "957      Detchd\n",
       "294      Attchd\n",
       "384      Attchd\n",
       "391     BuiltIn\n",
       "323      Attchd\n",
       "616      Attchd\n",
       "1131        NaN\n",
       "407      Attchd\n",
       "1326        NaN\n",
       "963      Attchd\n",
       "371      Detchd\n",
       "203      Attchd\n",
       "15       Detchd\n",
       "505      Detchd\n",
       "223      Detchd\n",
       "1306     Attchd\n",
       "123      Attchd\n",
       "383      Detchd\n",
       "268      Detchd\n",
       "1245    BuiltIn\n",
       "695      Attchd\n",
       "579      Attchd\n",
       "202      Attchd\n",
       "1390     Attchd\n",
       "301     BuiltIn\n",
       "279      Attchd\n",
       "498      Attchd\n",
       "190      Detchd\n",
       "620         NaN\n",
       "1318     Attchd\n",
       "1195     Attchd\n",
       "519      Detchd\n",
       "211      Attchd\n",
       "889      Attchd\n",
       "235      Detchd\n",
       "81       Attchd\n",
       "372      Attchd\n",
       "1041     Attchd\n",
       "1421     Attchd\n",
       "49       Attchd\n",
       "1180     Attchd\n",
       "1294     Detchd\n",
       "104      Detchd\n",
       "1437     Attchd\n",
       "873      Attchd\n",
       "1274     Detchd\n",
       "604      Attchd\n",
       "869      Attchd\n",
       "1166     Attchd\n",
       "764      Attchd\n",
       "306      Attchd\n",
       "496      Attchd\n",
       "25       Attchd\n",
       "442      Detchd\n",
       "1252     Attchd\n",
       "Name: Garage, Length: 1167, dtype: object"
      ]
     },
     "execution_count": 19,
     "metadata": {},
     "output_type": "execute_result"
    }
   ],
   "source": [
    "tempMode"
   ]
  },
  {
   "cell_type": "code",
   "execution_count": 20,
   "metadata": {},
   "outputs": [
    {
     "data": {
      "text/plain": [
       "'Attchd'"
      ]
     },
     "execution_count": 20,
     "metadata": {},
     "output_type": "execute_result"
    }
   ],
   "source": [
    "tempMode= fullRaw.loc[fullRaw['Source'] == 'Train', 'Garage'].mode()[0]\n",
    "tempMode\n",
    "# tempMode = trainDf[\"Garage\"].mode()[0] (another way of writing the code)"
   ]
  },
  {
   "cell_type": "code",
   "execution_count": 21,
   "metadata": {},
   "outputs": [],
   "source": [
    "fullRaw['Garage'].fillna(tempMode, inplace = True)"
   ]
  },
  {
   "cell_type": "code",
   "execution_count": 22,
   "metadata": {},
   "outputs": [
    {
     "data": {
      "text/plain": [
       "1980.0"
      ]
     },
     "execution_count": 22,
     "metadata": {},
     "output_type": "execute_result"
    }
   ],
   "source": [
    "# Garage_Built_Year (Continuous)\n",
    "# tempMedian = fullRaw.loc[fullRaw[\"Source\"] == \"Train\", \"Garage_Built_Year\"].median()\n",
    "tempMedian = trainDF[\"Garage_Built_Year\"].median() # Same as above\n",
    "tempMedian  "
   ]
  },
  {
   "cell_type": "code",
   "execution_count": 23,
   "metadata": {},
   "outputs": [],
   "source": [
    "# Replacing the NA's in the Garage Built year column with the Median\n",
    "fullRaw[\"Garage_Built_Year\"] = fullRaw[\"Garage_Built_Year\"].fillna(tempMedian) "
   ]
  },
  {
   "cell_type": "code",
   "execution_count": 24,
   "metadata": {},
   "outputs": [
    {
     "data": {
      "text/plain": [
       "Road_Type                       0\n",
       "Property_Shape                  0\n",
       "House_Type                      0\n",
       "House_Condition                 0\n",
       "Construction_Year               0\n",
       "Remodel_Year                    0\n",
       "BsmtFinSF1                      0\n",
       "Total_Basement_Area             0\n",
       "Air_Conditioning                0\n",
       "First_Floor_Area                0\n",
       "Second_Floor_Area               0\n",
       "LowQualFinSF                    0\n",
       "Underground_Full_Bathroom       0\n",
       "Full_Bathroom_Above_Grade       0\n",
       "Bedroom_Above_Grade             0\n",
       "Kitchen_Quality                 0\n",
       "Rooms_Above_Grade               0\n",
       "Fireplaces                      0\n",
       "Garage                          0\n",
       "Garage_Built_Year               0\n",
       "Garage_Area                     0\n",
       "Pool_Area                       0\n",
       "Miscellaneous_Value             0\n",
       "Year_Sold                       0\n",
       "Sale_Price                   1459\n",
       "Source                          0\n",
       "dtype: int64"
      ]
     },
     "execution_count": 24,
     "metadata": {},
     "output_type": "execute_result"
    }
   ],
   "source": [
    "# All NAs should be gone now\n",
    "fullRaw.isnull().sum()"
   ]
  },
  {
   "cell_type": "code",
   "execution_count": 34,
   "metadata": {},
   "outputs": [
    {
     "data": {
      "text/plain": [
       "<matplotlib.axes._subplots.AxesSubplot at 0x23c22791390>"
      ]
     },
     "execution_count": 34,
     "metadata": {},
     "output_type": "execute_result"
    },
    {
     "data": {
      "image/png": "[encoded data removed]",
      "text/plain": [
       "<Figure size 432x288 with 2 Axes>"
      ]
     },
     "metadata": {
      "needs_background": "light"
     },
     "output_type": "display_data"
    }
   ],
   "source": [
    "# Bivariate Analysis Continuous Variables: Scatterplot\n",
    "\n",
    "corrDF = fullRaw[fullRaw['Source']=='Train'].corr()\n",
    "#corrDF.head (to view in numerical view)\n",
    "\n",
    "sns.heatmap(corrDF,\n",
    "           xticklabels= corrDF.columns,\n",
    "           yticklabels= corrDF.columns, cmap='coolwarm_r')"
   ]
  },
  {
   "cell_type": "code",
   "execution_count": 40,
   "metadata": {},
   "outputs": [
    {
     "data": {
      "text/plain": [
       "Index(['Road_Type', 'Property_Shape', 'House_Type', 'Air_Conditioning', 'Kitchen_Quality', 'Garage', 'Source'], dtype='object')"
      ]
     },
     "execution_count": 40,
     "metadata": {},
     "output_type": "execute_result"
    }
   ],
   "source": [
    "# Bivariate Analysis Categorical Variables: Boxplot\n",
    "\n",
    "categoricalVars = trainDF.columns[trainDF.dtypes == object]\n",
    "categoricalVars"
   ]
  },
  {
   "cell_type": "code",
   "execution_count": 44,
   "metadata": {},
   "outputs": [
    {
     "data": {
      "text/plain": [
       "<matplotlib.axes._subplots.AxesSubplot at 0x23c22a62d68>"
      ]
     },
     "execution_count": 44,
     "metadata": {},
     "output_type": "execute_result"
    },
    {
     "data": {
      "image/png": "[encoded data removed]",
      "text/plain": [
       "<Figure size 432x288 with 1 Axes>"
      ]
     },
     "metadata": {
      "needs_background": "light"
     },
     "output_type": "display_data"
    }
   ],
   "source": [
    "# First option: Manually for each variable\n",
    "\n",
    "sns.boxplot(y = trainDF[\"Sale_Price\"], x = trainDF[\"Property_Shape\"])"
   ]
  },
  {
   "cell_type": "code",
   "execution_count": 46,
   "metadata": {},
   "outputs": [
    {
     "data": {
      "text/plain": [
       "<matplotlib.axes._subplots.AxesSubplot at 0x23c22b21320>"
      ]
     },
     "execution_count": 46,
     "metadata": {},
     "output_type": "execute_result"
    },
    {
     "data": {
      "image/png": "[encoded data removed]",
      "text/plain": [
       "<Figure size 432x288 with 1 Axes>"
      ]
     },
     "metadata": {
      "needs_background": "light"
     },
     "output_type": "display_data"
    }
   ],
   "source": [
    "sns.boxplot(y = trainDF[\"Sale_Price\"],x = trainDF['Road_Type'])"
   ]
  },
  {
   "cell_type": "code",
   "execution_count": 80,
   "metadata": {},
   "outputs": [
    {
     "data": {
      "image/png": "[encoded data removed]",
      "text/plain": [
       "<Figure size 432x288 with 1 Axes>"
      ]
     },
     "metadata": {
      "needs_background": "light"
     },
     "output_type": "display_data"
    },
    {
     "data": {
      "image/png": "[encoded data removed]",
      "text/plain": [
       "<Figure size 432x288 with 1 Axes>"
      ]
     },
     "metadata": {
      "needs_background": "light"
     },
     "output_type": "display_data"
    },
    {
     "data": {
      "image/png": "[encoded data removed]",
      "text/plain": [
       "<Figure size 432x288 with 1 Axes>"
      ]
     },
     "metadata": {
      "needs_background": "light"
     },
     "output_type": "display_data"
    },
    {
     "data": {
      "image/png": "[encoded data removed]",
      "text/plain": [
       "<Figure size 432x288 with 1 Axes>"
      ]
     },
     "metadata": {
      "needs_background": "light"
     },
     "output_type": "display_data"
    },
    {
     "data": {
      "image/png": "[encoded data removed]",
      "text/plain": [
       "<Figure size 432x288 with 1 Axes>"
      ]
     },
     "metadata": {
      "needs_background": "light"
     },
     "output_type": "display_data"
    },
    {
     "data": {
      "image/png": "[encoded data removed]",
      "text/plain": [
       "<Figure size 432x288 with 1 Axes>"
      ]
     },
     "metadata": {
      "needs_background": "light"
     },
     "output_type": "display_data"
    },
    {
     "data": {
      "image/png": "[encoded data removed]",
      "text/plain": [
       "<Figure size 432x288 with 1 Axes>"
      ]
     },
     "metadata": {
      "needs_background": "light"
     },
     "output_type": "display_data"
    }
   ],
   "source": [
    "# Second option: Run a for loop and create multiple plots\n",
    "\n",
    "from matplotlib.pyplot import figure\n",
    "for colName in categoricalVars:\n",
    "    figure()    \n",
    "    sns.boxplot(y = trainDF[\"Sale_Price\"], x = trainDF[colName])"
   ]
  },
  {
   "cell_type": "code",
   "execution_count": null,
   "metadata": {},
   "outputs": [],
   "source": [
    "# Third option: Run a for loop to dump all the plots in a pdf file\n",
    "\n",
    "from matplotlib.backends.backend_pdf import PdfPages\n",
    "fileName = \"C:/Users/nvnik/Desktop/Linear Regression in Python/Nikhil_AE.pdf\"\n",
    "pdf = PdfPages(fileName)\n",
    "for colNumber, colName in enumerate(categoricalVars): # enumerate gives key, value pair\n",
    "    # print(colNumber, colName)\n",
    "    figure()\n",
    "    sns.boxplot(y = trainDF[\"Sale_Price\"], x = trainDF[colName])\n",
    "    pdf.savefig(colNumber+1) # colNumber+1 is done to ensure page numbering starts from 1 (and NOT 0)\n",
    "    \n",
    "pdf.close()"
   ]
  },
  {
   "cell_type": "code",
   "execution_count": 60,
   "metadata": {},
   "outputs": [
    {
     "data": {
      "text/plain": [
       "(2918, 26)"
      ]
     },
     "execution_count": 60,
     "metadata": {},
     "output_type": "execute_result"
    }
   ],
   "source": [
    "############################\n",
    "# Dummy variable creation\n",
    "############################\n",
    "\n",
    "fullRaw2 = pd.get_dummies(fullRaw, drop_first = True) #drop_first = True will ensure you get n-1 dummies for each categorcial var\n",
    "# 'Source'  column will change to 'Source_Train' & 'Source_Test' and it contains 0s and 1s\n",
    "\n",
    "fullRaw2.shape\n",
    "fullRaw.shape"
   ]
  },
  {
   "cell_type": "code",
   "execution_count": 64,
   "metadata": {},
   "outputs": [
    {
     "data": {
      "text/plain": [
       "(2918, 40)"
      ]
     },
     "execution_count": 64,
     "metadata": {},
     "output_type": "execute_result"
    }
   ],
   "source": [
    "# Adding Intercept column\n",
    "\n",
    "## In Python, linear regression function does NOT account for an intercept by default.\n",
    "# So, we need to explicitely add intercept (in the df) - a column called \"const\" with all values being 1 in it.\n",
    "\n",
    "from statsmodels.api import add_constant\n",
    "fullRaw2 = add_constant(fullRaw2)\n",
    "fullRaw2.shape"
   ]
  },
  {
   "cell_type": "code",
   "execution_count": 83,
   "metadata": {},
   "outputs": [
    {
     "data": {
      "text/html": [
       "<div>\n",
       "<style scoped>\n",
       "    .dataframe tbody tr th:only-of-type {\n",
       "        vertical-align: middle;\n",
       "    }\n",
       "\n",
       "    .dataframe tbody tr th {\n",
       "        vertical-align: top;\n",
       "    }\n",
       "\n",
       "    .dataframe thead th {\n",
       "        text-align: right;\n",
       "    }\n",
       "</style>\n",
       "<table border=\"1\" class=\"dataframe\">\n",
       "  <thead>\n",
       "    <tr style=\"text-align: right;\">\n",
       "      <th></th>\n",
       "      <th>const</th>\n",
       "      <th>House_Condition</th>\n",
       "      <th>Construction_Year</th>\n",
       "      <th>Remodel_Year</th>\n",
       "      <th>BsmtFinSF1</th>\n",
       "      <th>Total_Basement_Area</th>\n",
       "      <th>First_Floor_Area</th>\n",
       "      <th>Second_Floor_Area</th>\n",
       "      <th>LowQualFinSF</th>\n",
       "      <th>Underground_Full_Bathroom</th>\n",
       "      <th>Full_Bathroom_Above_Grade</th>\n",
       "      <th>Bedroom_Above_Grade</th>\n",
       "      <th>Rooms_Above_Grade</th>\n",
       "      <th>Fireplaces</th>\n",
       "      <th>Garage_Built_Year</th>\n",
       "      <th>Garage_Area</th>\n",
       "      <th>Pool_Area</th>\n",
       "      <th>Miscellaneous_Value</th>\n",
       "      <th>Year_Sold</th>\n",
       "      <th>Sale_Price</th>\n",
       "      <th>Road_Type_Paved</th>\n",
       "      <th>Property_Shape_IR2</th>\n",
       "      <th>Property_Shape_IR3</th>\n",
       "      <th>Property_Shape_Reg</th>\n",
       "      <th>House_Type_2fmCon</th>\n",
       "      <th>House_Type_Duplex</th>\n",
       "      <th>House_Type_Twnhs</th>\n",
       "      <th>House_Type_TwnhsE</th>\n",
       "      <th>Air_Conditioning_Y</th>\n",
       "      <th>Kitchen_Quality_Fa</th>\n",
       "      <th>Kitchen_Quality_Gd</th>\n",
       "      <th>Kitchen_Quality_TA</th>\n",
       "      <th>Garage_2Types</th>\n",
       "      <th>Garage_Attchd</th>\n",
       "      <th>Garage_Basment</th>\n",
       "      <th>Garage_BuiltIn</th>\n",
       "      <th>Garage_CarPort</th>\n",
       "      <th>Garage_Detchd</th>\n",
       "      <th>Source_Test</th>\n",
       "      <th>Source_Train</th>\n",
       "    </tr>\n",
       "  </thead>\n",
       "  <tbody>\n",
       "    <tr>\n",
       "      <th>56</th>\n",
       "      <td>1.0</td>\n",
       "      <td>5</td>\n",
       "      <td>1999</td>\n",
       "      <td>2000</td>\n",
       "      <td>649</td>\n",
       "      <td>970</td>\n",
       "      <td>983</td>\n",
       "      <td>756</td>\n",
       "      <td>0</td>\n",
       "      <td>1</td>\n",
       "      <td>2</td>\n",
       "      <td>3</td>\n",
       "      <td>7</td>\n",
       "      <td>0</td>\n",
       "      <td>1999.0</td>\n",
       "      <td>742.697147</td>\n",
       "      <td>0</td>\n",
       "      <td>0</td>\n",
       "      <td>2009</td>\n",
       "      <td>172500.0</td>\n",
       "      <td>1</td>\n",
       "      <td>0</td>\n",
       "      <td>0</td>\n",
       "      <td>1</td>\n",
       "      <td>0</td>\n",
       "      <td>0</td>\n",
       "      <td>1</td>\n",
       "      <td>0</td>\n",
       "      <td>1</td>\n",
       "      <td>0</td>\n",
       "      <td>1</td>\n",
       "      <td>0</td>\n",
       "      <td>0</td>\n",
       "      <td>1</td>\n",
       "      <td>0</td>\n",
       "      <td>0</td>\n",
       "      <td>0</td>\n",
       "      <td>0</td>\n",
       "      <td>0</td>\n",
       "      <td>1</td>\n",
       "    </tr>\n",
       "    <tr>\n",
       "      <th>392</th>\n",
       "      <td>1.0</td>\n",
       "      <td>7</td>\n",
       "      <td>1959</td>\n",
       "      <td>1959</td>\n",
       "      <td>0</td>\n",
       "      <td>0</td>\n",
       "      <td>882</td>\n",
       "      <td>0</td>\n",
       "      <td>0</td>\n",
       "      <td>0</td>\n",
       "      <td>1</td>\n",
       "      <td>3</td>\n",
       "      <td>5</td>\n",
       "      <td>0</td>\n",
       "      <td>1959.0</td>\n",
       "      <td>409.340977</td>\n",
       "      <td>0</td>\n",
       "      <td>1200</td>\n",
       "      <td>2007</td>\n",
       "      <td>106500.0</td>\n",
       "      <td>1</td>\n",
       "      <td>0</td>\n",
       "      <td>0</td>\n",
       "      <td>0</td>\n",
       "      <td>0</td>\n",
       "      <td>0</td>\n",
       "      <td>0</td>\n",
       "      <td>0</td>\n",
       "      <td>1</td>\n",
       "      <td>0</td>\n",
       "      <td>0</td>\n",
       "      <td>1</td>\n",
       "      <td>0</td>\n",
       "      <td>1</td>\n",
       "      <td>0</td>\n",
       "      <td>0</td>\n",
       "      <td>0</td>\n",
       "      <td>0</td>\n",
       "      <td>0</td>\n",
       "      <td>1</td>\n",
       "    </tr>\n",
       "    <tr>\n",
       "      <th>176</th>\n",
       "      <td>1.0</td>\n",
       "      <td>5</td>\n",
       "      <td>1988</td>\n",
       "      <td>1989</td>\n",
       "      <td>831</td>\n",
       "      <td>1151</td>\n",
       "      <td>1164</td>\n",
       "      <td>896</td>\n",
       "      <td>0</td>\n",
       "      <td>0</td>\n",
       "      <td>2</td>\n",
       "      <td>4</td>\n",
       "      <td>8</td>\n",
       "      <td>1</td>\n",
       "      <td>1988.0</td>\n",
       "      <td>257.352391</td>\n",
       "      <td>0</td>\n",
       "      <td>0</td>\n",
       "      <td>2007</td>\n",
       "      <td>211000.0</td>\n",
       "      <td>1</td>\n",
       "      <td>0</td>\n",
       "      <td>0</td>\n",
       "      <td>0</td>\n",
       "      <td>0</td>\n",
       "      <td>0</td>\n",
       "      <td>0</td>\n",
       "      <td>0</td>\n",
       "      <td>1</td>\n",
       "      <td>0</td>\n",
       "      <td>0</td>\n",
       "      <td>1</td>\n",
       "      <td>0</td>\n",
       "      <td>1</td>\n",
       "      <td>0</td>\n",
       "      <td>0</td>\n",
       "      <td>0</td>\n",
       "      <td>0</td>\n",
       "      <td>0</td>\n",
       "      <td>1</td>\n",
       "    </tr>\n",
       "    <tr>\n",
       "      <th>342</th>\n",
       "      <td>1.0</td>\n",
       "      <td>4</td>\n",
       "      <td>1949</td>\n",
       "      <td>1950</td>\n",
       "      <td>0</td>\n",
       "      <td>0</td>\n",
       "      <td>1040</td>\n",
       "      <td>0</td>\n",
       "      <td>0</td>\n",
       "      <td>0</td>\n",
       "      <td>2</td>\n",
       "      <td>2</td>\n",
       "      <td>6</td>\n",
       "      <td>0</td>\n",
       "      <td>1949.0</td>\n",
       "      <td>38.984100</td>\n",
       "      <td>0</td>\n",
       "      <td>0</td>\n",
       "      <td>2006</td>\n",
       "      <td>87500.0</td>\n",
       "      <td>1</td>\n",
       "      <td>0</td>\n",
       "      <td>0</td>\n",
       "      <td>1</td>\n",
       "      <td>0</td>\n",
       "      <td>1</td>\n",
       "      <td>0</td>\n",
       "      <td>0</td>\n",
       "      <td>0</td>\n",
       "      <td>0</td>\n",
       "      <td>0</td>\n",
       "      <td>1</td>\n",
       "      <td>0</td>\n",
       "      <td>0</td>\n",
       "      <td>0</td>\n",
       "      <td>0</td>\n",
       "      <td>0</td>\n",
       "      <td>1</td>\n",
       "      <td>0</td>\n",
       "      <td>1</td>\n",
       "    </tr>\n",
       "    <tr>\n",
       "      <th>446</th>\n",
       "      <td>1.0</td>\n",
       "      <td>6</td>\n",
       "      <td>1966</td>\n",
       "      <td>2002</td>\n",
       "      <td>247</td>\n",
       "      <td>1517</td>\n",
       "      <td>1888</td>\n",
       "      <td>0</td>\n",
       "      <td>0</td>\n",
       "      <td>0</td>\n",
       "      <td>2</td>\n",
       "      <td>2</td>\n",
       "      <td>6</td>\n",
       "      <td>1</td>\n",
       "      <td>1966.0</td>\n",
       "      <td>459.927746</td>\n",
       "      <td>0</td>\n",
       "      <td>0</td>\n",
       "      <td>2010</td>\n",
       "      <td>190000.0</td>\n",
       "      <td>1</td>\n",
       "      <td>0</td>\n",
       "      <td>0</td>\n",
       "      <td>0</td>\n",
       "      <td>0</td>\n",
       "      <td>0</td>\n",
       "      <td>0</td>\n",
       "      <td>0</td>\n",
       "      <td>1</td>\n",
       "      <td>0</td>\n",
       "      <td>1</td>\n",
       "      <td>0</td>\n",
       "      <td>0</td>\n",
       "      <td>1</td>\n",
       "      <td>0</td>\n",
       "      <td>0</td>\n",
       "      <td>0</td>\n",
       "      <td>0</td>\n",
       "      <td>0</td>\n",
       "      <td>1</td>\n",
       "    </tr>\n",
       "  </tbody>\n",
       "</table>\n",
       "</div>"
      ],
      "text/plain": [
       "     const  House_Condition  Construction_Year  Remodel_Year  BsmtFinSF1  Total_Basement_Area  First_Floor_Area  Second_Floor_Area  LowQualFinSF  Underground_Full_Bathroom  Full_Bathroom_Above_Grade  Bedroom_Above_Grade  Rooms_Above_Grade  Fireplaces  Garage_Built_Year  Garage_Area  Pool_Area  Miscellaneous_Value  Year_Sold  Sale_Price  Road_Type_Paved  Property_Shape_IR2  Property_Shape_IR3  Property_Shape_Reg  House_Type_2fmCon  House_Type_Duplex  House_Type_Twnhs  House_Type_TwnhsE  Air_Conditioning_Y  Kitchen_Quality_Fa  Kitchen_Quality_Gd  Kitchen_Quality_TA  Garage_2Types  Garage_Attchd  Garage_Basment  Garage_BuiltIn  Garage_CarPort  Garage_Detchd  Source_Test  Source_Train\n",
       "56     1.0                5               1999          2000         649                  970               983                756             0                          1                          2                    3                  7           0             1999.0   742.697147          0                    0       2009    172500.0                1                   0                   0                   1                  0                  0                 1                  0                   1                   0                   1                   0              0              1               0               0               0              0            0             1\n",
       "392    1.0                7               1959          1959           0                    0               882                  0             0                          0                          1                    3                  5           0             1959.0   409.340977          0                 1200       2007    106500.0                1                   0                   0                   0                  0                  0                 0                  0                   1                   0                   0                   1              0              1               0               0               0              0            0             1\n",
       "176    1.0                5               1988          1989         831                 1151              1164                896             0                          0                          2                    4                  8           1             1988.0   257.352391          0                    0       2007    211000.0                1                   0                   0                   0                  0                  0                 0                  0                   1                   0                   0                   1              0              1               0               0               0              0            0             1\n",
       "342    1.0                4               1949          1950           0                    0              1040                  0             0                          0                          2                    2                  6           0             1949.0    38.984100          0                    0       2006     87500.0                1                   0                   0                   1                  0                  1                 0                  0                   0                   0                   0                   1              0              0               0               0               0              1            0             1\n",
       "446    1.0                6               1966          2002         247                 1517              1888                  0             0                          0                          2                    2                  6           1             1966.0   459.927746          0                    0       2010    190000.0                1                   0                   0                   0                  0                  0                 0                  0                   1                   0                   1                   0              0              1               0               0               0              0            0             1"
      ]
     },
     "execution_count": 83,
     "metadata": {},
     "output_type": "execute_result"
    }
   ],
   "source": [
    "fullRaw2.head()"
   ]
  },
  {
   "cell_type": "code",
   "execution_count": 67,
   "metadata": {},
   "outputs": [],
   "source": [
    "# Sampling\n",
    "\n",
    "# Step 1: Divide into Train, Test and Prediction Dfs\n",
    "\n",
    "trainDf = fullRaw2[fullRaw2['Source_Train'] == 1].drop(['Source_Train', 'Source_Test'], axis = 1).copy()\n",
    "testDf = fullRaw2[fullRaw2['Source_Test'] == 1].drop(['Source_Train', 'Source_Test'], axis = 1).copy()\n",
    "predictionDf = fullRaw2[(fullRaw2['Source_Train'] == 0) & \n",
    "                        (fullRaw2['Source_Test'] == 0)].drop(['Source_Train', 'Source_Test'], axis = 1).copy()"
   ]
  },
  {
   "cell_type": "code",
   "execution_count": 74,
   "metadata": {},
   "outputs": [
    {
     "data": {
      "text/plain": [
       "(1459, 38)"
      ]
     },
     "execution_count": 74,
     "metadata": {},
     "output_type": "execute_result"
    }
   ],
   "source": [
    "#trainDf.shape\n",
    "#testDf.shape\n",
    "predictionDf.shape"
   ]
  },
  {
   "cell_type": "code",
   "execution_count": 78,
   "metadata": {},
   "outputs": [
    {
     "data": {
      "text/plain": [
       "(292,)"
      ]
     },
     "execution_count": 78,
     "metadata": {},
     "output_type": "execute_result"
    }
   ],
   "source": [
    "# Step 2: Divide into Xs (Indepenedents) and Y (Dependent)\n",
    "trainX = trainDf.drop(['Sale_Price'], axis = 1).copy()\n",
    "trainY = trainDf['Sale_Price'].copy()\n",
    "testX = testDf.drop(['Sale_Price'], axis = 1).copy()\n",
    "testY = testDf['Sale_Price'].copy()\n",
    "\n",
    "trainX.shape\n",
    "trainY.shape\n",
    "testX.shape\n",
    "testY.shape"
   ]
  },
  {
   "cell_type": "code",
   "execution_count": 84,
   "metadata": {},
   "outputs": [],
   "source": [
    "# Model building\n",
    "\n",
    "from statsmodels.api import OLS"
   ]
  },
  {
   "cell_type": "code",
   "execution_count": 86,
   "metadata": {},
   "outputs": [],
   "source": [
    "m1ModelDef = OLS(trainY, trainX) # (Dep_Var, Indep_Vars) # This is model definition"
   ]
  },
  {
   "cell_type": "code",
   "execution_count": 87,
   "metadata": {},
   "outputs": [],
   "source": [
    "m1ModelBuild = m1ModelDef.fit() # This is model building"
   ]
  },
  {
   "cell_type": "code",
   "execution_count": null,
   "metadata": {},
   "outputs": [],
   "source": [
    "m1ModelBuild.summary() # This is model output summary"
   ]
  },
  {
   "cell_type": "code",
   "execution_count": 89,
   "metadata": {},
   "outputs": [
    {
     "data": {
      "text/plain": [
       "const                        9.173984e-01\n",
       "House_Condition              5.089087e-11\n",
       "Construction_Year            3.774940e-20\n",
       "Remodel_Year                 1.966803e-01\n",
       "BsmtFinSF1                   4.395862e-06\n",
       "Total_Basement_Area          2.720868e-13\n",
       "First_Floor_Area             3.362010e-35\n",
       "Second_Floor_Area            4.286183e-66\n",
       "LowQualFinSF                 8.732606e-01\n",
       "Underground_Full_Bathroom    1.107306e-01\n",
       "Full_Bathroom_Above_Grade    1.675561e-01\n",
       "Bedroom_Above_Grade          3.470818e-07\n",
       "Rooms_Above_Grade            8.680255e-01\n",
       "Fireplaces                   1.294480e-06\n",
       "Garage_Built_Year            1.418923e-03\n",
       "Garage_Area                  8.542517e-01\n",
       "Pool_Area                    7.571516e-03\n",
       "Miscellaneous_Value          6.399895e-01\n",
       "Year_Sold                    1.800901e-01\n",
       "Road_Type_Paved              6.876838e-01\n",
       "Property_Shape_IR2           4.056803e-02\n",
       "Property_Shape_IR3           4.540800e-01\n",
       "Property_Shape_Reg           4.971108e-01\n",
       "House_Type_2fmCon            1.887135e-01\n",
       "House_Type_Duplex            7.818044e-06\n",
       "House_Type_Twnhs             6.828458e-07\n",
       "House_Type_TwnhsE            7.268409e-06\n",
       "Air_Conditioning_Y           1.383592e-01\n",
       "Kitchen_Quality_Fa           1.196069e-13\n",
       "Kitchen_Quality_Gd           1.947302e-31\n",
       "Kitchen_Quality_TA           6.517755e-34\n",
       "Garage_2Types                4.309020e-01\n",
       "Garage_Attchd                2.785225e-01\n",
       "Garage_Basment               2.457991e-01\n",
       "Garage_BuiltIn               4.991075e-01\n",
       "Garage_CarPort               1.787502e-01\n",
       "Garage_Detchd                1.585816e-01\n",
       "dtype: float64"
      ]
     },
     "execution_count": 89,
     "metadata": {},
     "output_type": "execute_result"
    }
   ],
   "source": [
    "# Extract/ Identify p-values from model\n",
    "dir(m1ModelBuild)\n",
    "m1ModelBuild.pvalues"
   ]
  },
  {
   "cell_type": "code",
   "execution_count": 91,
   "metadata": {},
   "outputs": [
    {
     "data": {
      "text/html": [
       "<table class=\"simpletable\">\n",
       "<caption>OLS Regression Results</caption>\n",
       "<tr>\n",
       "  <th>Dep. Variable:</th>       <td>Sale_Price</td>    <th>  R-squared:         </th> <td>   0.836</td> \n",
       "</tr>\n",
       "<tr>\n",
       "  <th>Model:</th>                   <td>OLS</td>       <th>  Adj. R-squared:    </th> <td>   0.831</td> \n",
       "</tr>\n",
       "<tr>\n",
       "  <th>Method:</th>             <td>Least Squares</td>  <th>  F-statistic:       </th> <td>   164.7</td> \n",
       "</tr>\n",
       "<tr>\n",
       "  <th>Date:</th>             <td>Mon, 27 Dec 2021</td> <th>  Prob (F-statistic):</th>  <td>  0.00</td>  \n",
       "</tr>\n",
       "<tr>\n",
       "  <th>Time:</th>                 <td>23:01:32</td>     <th>  Log-Likelihood:    </th> <td> -13750.</td> \n",
       "</tr>\n",
       "<tr>\n",
       "  <th>No. Observations:</th>      <td>  1167</td>      <th>  AIC:               </th> <td>2.757e+04</td>\n",
       "</tr>\n",
       "<tr>\n",
       "  <th>Df Residuals:</th>          <td>  1131</td>      <th>  BIC:               </th> <td>2.775e+04</td>\n",
       "</tr>\n",
       "<tr>\n",
       "  <th>Df Model:</th>              <td>    35</td>      <th>                     </th>     <td> </td>    \n",
       "</tr>\n",
       "<tr>\n",
       "  <th>Covariance Type:</th>      <td>nonrobust</td>    <th>                     </th>     <td> </td>    \n",
       "</tr>\n",
       "</table>\n",
       "<table class=\"simpletable\">\n",
       "<tr>\n",
       "              <td></td>                 <th>coef</th>     <th>std err</th>      <th>t</th>      <th>P>|t|</th>  <th>[0.025</th>    <th>0.975]</th>  \n",
       "</tr>\n",
       "<tr>\n",
       "  <th>const</th>                     <td> 1.514e+05</td> <td> 1.46e+06</td> <td>    0.104</td> <td> 0.917</td> <td>-2.71e+06</td> <td> 3.01e+06</td>\n",
       "</tr>\n",
       "<tr>\n",
       "  <th>House_Condition</th>           <td> 7225.0698</td> <td> 1089.272</td> <td>    6.633</td> <td> 0.000</td> <td> 5087.849</td> <td> 9362.291</td>\n",
       "</tr>\n",
       "<tr>\n",
       "  <th>Construction_Year</th>         <td>  615.2767</td> <td>   65.658</td> <td>    9.371</td> <td> 0.000</td> <td>  486.451</td> <td>  744.102</td>\n",
       "</tr>\n",
       "<tr>\n",
       "  <th>Remodel_Year</th>              <td>   94.9669</td> <td>   73.513</td> <td>    1.292</td> <td> 0.197</td> <td>  -49.271</td> <td>  239.205</td>\n",
       "</tr>\n",
       "<tr>\n",
       "  <th>BsmtFinSF1</th>                <td>   14.9784</td> <td>    3.246</td> <td>    4.614</td> <td> 0.000</td> <td>    8.609</td> <td>   21.347</td>\n",
       "</tr>\n",
       "<tr>\n",
       "  <th>Total_Basement_Area</th>       <td>   31.6407</td> <td>    4.278</td> <td>    7.396</td> <td> 0.000</td> <td>   23.247</td> <td>   40.034</td>\n",
       "</tr>\n",
       "<tr>\n",
       "  <th>First_Floor_Area</th>          <td>   74.3035</td> <td>    5.798</td> <td>   12.814</td> <td> 0.000</td> <td>   62.926</td> <td>   85.680</td>\n",
       "</tr>\n",
       "<tr>\n",
       "  <th>Second_Floor_Area</th>         <td>   77.6803</td> <td>    4.231</td> <td>   18.359</td> <td> 0.000</td> <td>   69.379</td> <td>   85.982</td>\n",
       "</tr>\n",
       "<tr>\n",
       "  <th>LowQualFinSF</th>              <td>    3.3701</td> <td>   21.122</td> <td>    0.160</td> <td> 0.873</td> <td>  -38.073</td> <td>   44.813</td>\n",
       "</tr>\n",
       "<tr>\n",
       "  <th>Underground_Full_Bathroom</th> <td> 4009.4941</td> <td> 2511.949</td> <td>    1.596</td> <td> 0.111</td> <td> -919.110</td> <td> 8938.098</td>\n",
       "</tr>\n",
       "<tr>\n",
       "  <th>Full_Bathroom_Above_Grade</th> <td> 3767.1847</td> <td> 2727.895</td> <td>    1.381</td> <td> 0.168</td> <td>-1585.120</td> <td> 9119.489</td>\n",
       "</tr>\n",
       "<tr>\n",
       "  <th>Bedroom_Above_Grade</th>       <td>-9209.3110</td> <td> 1796.434</td> <td>   -5.126</td> <td> 0.000</td> <td>-1.27e+04</td> <td>-5684.592</td>\n",
       "</tr>\n",
       "<tr>\n",
       "  <th>Rooms_Above_Grade</th>         <td>  212.6635</td> <td> 1279.527</td> <td>    0.166</td> <td> 0.868</td> <td>-2297.850</td> <td> 2723.177</td>\n",
       "</tr>\n",
       "<tr>\n",
       "  <th>Fireplaces</th>                <td> 8866.5570</td> <td> 1821.821</td> <td>    4.867</td> <td> 0.000</td> <td> 5292.028</td> <td> 1.24e+04</td>\n",
       "</tr>\n",
       "<tr>\n",
       "  <th>Garage_Built_Year</th>         <td>  219.7036</td> <td>   68.686</td> <td>    3.199</td> <td> 0.001</td> <td>   84.938</td> <td>  354.469</td>\n",
       "</tr>\n",
       "<tr>\n",
       "  <th>Garage_Area</th>               <td>   -0.8393</td> <td>    4.568</td> <td>   -0.184</td> <td> 0.854</td> <td>   -9.802</td> <td>    8.124</td>\n",
       "</tr>\n",
       "<tr>\n",
       "  <th>Pool_Area</th>                 <td>   60.4705</td> <td>   22.602</td> <td>    2.675</td> <td> 0.008</td> <td>   16.123</td> <td>  104.818</td>\n",
       "</tr>\n",
       "<tr>\n",
       "  <th>Miscellaneous_Value</th>       <td>   -0.8113</td> <td>    1.734</td> <td>   -0.468</td> <td> 0.640</td> <td>   -4.214</td> <td>    2.591</td>\n",
       "</tr>\n",
       "<tr>\n",
       "  <th>Year_Sold</th>                 <td> -970.1397</td> <td>  723.279</td> <td>   -1.341</td> <td> 0.180</td> <td>-2389.260</td> <td>  448.981</td>\n",
       "</tr>\n",
       "<tr>\n",
       "  <th>Road_Type_Paved</th>           <td> 6986.3175</td> <td> 1.74e+04</td> <td>    0.402</td> <td> 0.688</td> <td>-2.71e+04</td> <td> 4.11e+04</td>\n",
       "</tr>\n",
       "<tr>\n",
       "  <th>Property_Shape_IR2</th>        <td> 1.223e+04</td> <td> 5963.730</td> <td>    2.050</td> <td> 0.041</td> <td>  526.050</td> <td> 2.39e+04</td>\n",
       "</tr>\n",
       "<tr>\n",
       "  <th>Property_Shape_IR3</th>        <td> 9334.4707</td> <td> 1.25e+04</td> <td>    0.749</td> <td> 0.454</td> <td>-1.51e+04</td> <td> 3.38e+04</td>\n",
       "</tr>\n",
       "<tr>\n",
       "  <th>Property_Shape_Reg</th>        <td>-1465.4443</td> <td> 2157.406</td> <td>   -0.679</td> <td> 0.497</td> <td>-5698.413</td> <td> 2767.525</td>\n",
       "</tr>\n",
       "<tr>\n",
       "  <th>House_Type_2fmCon</th>         <td>-9621.3078</td> <td> 7315.542</td> <td>   -1.315</td> <td> 0.189</td> <td> -2.4e+04</td> <td> 4732.251</td>\n",
       "</tr>\n",
       "<tr>\n",
       "  <th>House_Type_Duplex</th>         <td>-2.558e+04</td> <td> 5696.506</td> <td>   -4.491</td> <td> 0.000</td> <td>-3.68e+04</td> <td>-1.44e+04</td>\n",
       "</tr>\n",
       "<tr>\n",
       "  <th>House_Type_Twnhs</th>          <td>-3.009e+04</td> <td> 6025.434</td> <td>   -4.994</td> <td> 0.000</td> <td>-4.19e+04</td> <td>-1.83e+04</td>\n",
       "</tr>\n",
       "<tr>\n",
       "  <th>House_Type_TwnhsE</th>         <td>-1.799e+04</td> <td> 3992.251</td> <td>   -4.507</td> <td> 0.000</td> <td>-2.58e+04</td> <td>-1.02e+04</td>\n",
       "</tr>\n",
       "<tr>\n",
       "  <th>Air_Conditioning_Y</th>        <td>-7010.8625</td> <td> 4727.561</td> <td>   -1.483</td> <td> 0.138</td> <td>-1.63e+04</td> <td> 2264.913</td>\n",
       "</tr>\n",
       "<tr>\n",
       "  <th>Kitchen_Quality_Fa</th>        <td>-5.871e+04</td> <td> 7817.839</td> <td>   -7.510</td> <td> 0.000</td> <td>-7.41e+04</td> <td>-4.34e+04</td>\n",
       "</tr>\n",
       "<tr>\n",
       "  <th>Kitchen_Quality_Gd</th>        <td>-5.291e+04</td> <td> 4399.441</td> <td>  -12.026</td> <td> 0.000</td> <td>-6.15e+04</td> <td>-4.43e+04</td>\n",
       "</tr>\n",
       "<tr>\n",
       "  <th>Kitchen_Quality_TA</th>        <td>-6.216e+04</td> <td> 4953.499</td> <td>  -12.549</td> <td> 0.000</td> <td>-7.19e+04</td> <td>-5.24e+04</td>\n",
       "</tr>\n",
       "<tr>\n",
       "  <th>Garage_2Types</th>             <td> 6.903e-11</td> <td> 8.76e-11</td> <td>    0.788</td> <td> 0.431</td> <td>-1.03e-10</td> <td> 2.41e-10</td>\n",
       "</tr>\n",
       "<tr>\n",
       "  <th>Garage_Attchd</th>             <td> 1.645e+04</td> <td> 1.52e+04</td> <td>    1.084</td> <td> 0.279</td> <td>-1.33e+04</td> <td> 4.62e+04</td>\n",
       "</tr>\n",
       "<tr>\n",
       "  <th>Garage_Basment</th>            <td> 1.982e+04</td> <td> 1.71e+04</td> <td>    1.161</td> <td> 0.246</td> <td>-1.37e+04</td> <td> 5.33e+04</td>\n",
       "</tr>\n",
       "<tr>\n",
       "  <th>Garage_BuiltIn</th>            <td> 1.067e+04</td> <td> 1.58e+04</td> <td>    0.676</td> <td> 0.499</td> <td>-2.03e+04</td> <td> 4.16e+04</td>\n",
       "</tr>\n",
       "<tr>\n",
       "  <th>Garage_CarPort</th>            <td> 2.671e+04</td> <td> 1.99e+04</td> <td>    1.345</td> <td> 0.179</td> <td>-1.22e+04</td> <td> 6.57e+04</td>\n",
       "</tr>\n",
       "<tr>\n",
       "  <th>Garage_Detchd</th>             <td> 2.149e+04</td> <td> 1.52e+04</td> <td>    1.411</td> <td> 0.159</td> <td>-8398.283</td> <td> 5.14e+04</td>\n",
       "</tr>\n",
       "</table>\n",
       "<table class=\"simpletable\">\n",
       "<tr>\n",
       "  <th>Omnibus:</th>       <td>505.567</td> <th>  Durbin-Watson:     </th> <td>   2.081</td> \n",
       "</tr>\n",
       "<tr>\n",
       "  <th>Prob(Omnibus):</th> <td> 0.000</td>  <th>  Jarque-Bera (JB):  </th> <td>47661.697</td>\n",
       "</tr>\n",
       "<tr>\n",
       "  <th>Skew:</th>          <td>-1.043</td>  <th>  Prob(JB):          </th> <td>    0.00</td> \n",
       "</tr>\n",
       "<tr>\n",
       "  <th>Kurtosis:</th>      <td>34.238</td>  <th>  Cond. No.          </th> <td>1.00e+16</td> \n",
       "</tr>\n",
       "</table><br/><br/>Warnings:<br/>[1] Standard Errors assume that the covariance matrix of the errors is correctly specified.<br/>[2] The smallest eigenvalue is 2.18e-22. This might indicate that there are<br/>strong multicollinearity problems or that the design matrix is singular."
      ],
      "text/plain": [
       "<class 'statsmodels.iolib.summary.Summary'>\n",
       "\"\"\"\n",
       "                            OLS Regression Results                            \n",
       "==============================================================================\n",
       "Dep. Variable:             Sale_Price   R-squared:                       0.836\n",
       "Model:                            OLS   Adj. R-squared:                  0.831\n",
       "Method:                 Least Squares   F-statistic:                     164.7\n",
       "Date:                Mon, 27 Dec 2021   Prob (F-statistic):               0.00\n",
       "Time:                        23:01:32   Log-Likelihood:                -13750.\n",
       "No. Observations:                1167   AIC:                         2.757e+04\n",
       "Df Residuals:                    1131   BIC:                         2.775e+04\n",
       "Df Model:                          35                                         \n",
       "Covariance Type:            nonrobust                                         \n",
       "=============================================================================================\n",
       "                                coef    std err          t      P>|t|      [0.025      0.975]\n",
       "---------------------------------------------------------------------------------------------\n",
       "const                      1.514e+05   1.46e+06      0.104      0.917   -2.71e+06    3.01e+06\n",
       "House_Condition            7225.0698   1089.272      6.633      0.000    5087.849    9362.291\n",
       "Construction_Year           615.2767     65.658      9.371      0.000     486.451     744.102\n",
       "Remodel_Year                 94.9669     73.513      1.292      0.197     -49.271     239.205\n",
       "BsmtFinSF1                   14.9784      3.246      4.614      0.000       8.609      21.347\n",
       "Total_Basement_Area          31.6407      4.278      7.396      0.000      23.247      40.034\n",
       "First_Floor_Area             74.3035      5.798     12.814      0.000      62.926      85.680\n",
       "Second_Floor_Area            77.6803      4.231     18.359      0.000      69.379      85.982\n",
       "LowQualFinSF                  3.3701     21.122      0.160      0.873     -38.073      44.813\n",
       "Underground_Full_Bathroom  4009.4941   2511.949      1.596      0.111    -919.110    8938.098\n",
       "Full_Bathroom_Above_Grade  3767.1847   2727.895      1.381      0.168   -1585.120    9119.489\n",
       "Bedroom_Above_Grade       -9209.3110   1796.434     -5.126      0.000   -1.27e+04   -5684.592\n",
       "Rooms_Above_Grade           212.6635   1279.527      0.166      0.868   -2297.850    2723.177\n",
       "Fireplaces                 8866.5570   1821.821      4.867      0.000    5292.028    1.24e+04\n",
       "Garage_Built_Year           219.7036     68.686      3.199      0.001      84.938     354.469\n",
       "Garage_Area                  -0.8393      4.568     -0.184      0.854      -9.802       8.124\n",
       "Pool_Area                    60.4705     22.602      2.675      0.008      16.123     104.818\n",
       "Miscellaneous_Value          -0.8113      1.734     -0.468      0.640      -4.214       2.591\n",
       "Year_Sold                  -970.1397    723.279     -1.341      0.180   -2389.260     448.981\n",
       "Road_Type_Paved            6986.3175   1.74e+04      0.402      0.688   -2.71e+04    4.11e+04\n",
       "Property_Shape_IR2         1.223e+04   5963.730      2.050      0.041     526.050    2.39e+04\n",
       "Property_Shape_IR3         9334.4707   1.25e+04      0.749      0.454   -1.51e+04    3.38e+04\n",
       "Property_Shape_Reg        -1465.4443   2157.406     -0.679      0.497   -5698.413    2767.525\n",
       "House_Type_2fmCon         -9621.3078   7315.542     -1.315      0.189    -2.4e+04    4732.251\n",
       "House_Type_Duplex         -2.558e+04   5696.506     -4.491      0.000   -3.68e+04   -1.44e+04\n",
       "House_Type_Twnhs          -3.009e+04   6025.434     -4.994      0.000   -4.19e+04   -1.83e+04\n",
       "House_Type_TwnhsE         -1.799e+04   3992.251     -4.507      0.000   -2.58e+04   -1.02e+04\n",
       "Air_Conditioning_Y        -7010.8625   4727.561     -1.483      0.138   -1.63e+04    2264.913\n",
       "Kitchen_Quality_Fa        -5.871e+04   7817.839     -7.510      0.000   -7.41e+04   -4.34e+04\n",
       "Kitchen_Quality_Gd        -5.291e+04   4399.441    -12.026      0.000   -6.15e+04   -4.43e+04\n",
       "Kitchen_Quality_TA        -6.216e+04   4953.499    -12.549      0.000   -7.19e+04   -5.24e+04\n",
       "Garage_2Types              6.903e-11   8.76e-11      0.788      0.431   -1.03e-10    2.41e-10\n",
       "Garage_Attchd              1.645e+04   1.52e+04      1.084      0.279   -1.33e+04    4.62e+04\n",
       "Garage_Basment             1.982e+04   1.71e+04      1.161      0.246   -1.37e+04    5.33e+04\n",
       "Garage_BuiltIn             1.067e+04   1.58e+04      0.676      0.499   -2.03e+04    4.16e+04\n",
       "Garage_CarPort             2.671e+04   1.99e+04      1.345      0.179   -1.22e+04    6.57e+04\n",
       "Garage_Detchd              2.149e+04   1.52e+04      1.411      0.159   -8398.283    5.14e+04\n",
       "==============================================================================\n",
       "Omnibus:                      505.567   Durbin-Watson:                   2.081\n",
       "Prob(Omnibus):                  0.000   Jarque-Bera (JB):            47661.697\n",
       "Skew:                          -1.043   Prob(JB):                         0.00\n",
       "Kurtosis:                      34.238   Cond. No.                     1.00e+16\n",
       "==============================================================================\n",
       "\n",
       "Warnings:\n",
       "[1] Standard Errors assume that the covariance matrix of the errors is correctly specified.\n",
       "[2] The smallest eigenvalue is 2.18e-22. This might indicate that there are\n",
       "strong multicollinearity problems or that the design matrix is singular.\n",
       "\"\"\""
      ]
     },
     "execution_count": 91,
     "metadata": {},
     "output_type": "execute_result"
    }
   ],
   "source": [
    "Model = OLS(trainY, trainX).fit()\n",
    "Model.summary()"
   ]
  },
  {
   "cell_type": "code",
   "execution_count": 92,
   "metadata": {},
   "outputs": [
    {
     "data": {
      "text/plain": [
       "41      170000.0\n",
       "234     216500.0\n",
       "255     230000.0\n",
       "218     311500.0\n",
       "175     243000.0\n",
       "1009    102000.0\n",
       "Name: Sale_Price, dtype: float64"
      ]
     },
     "execution_count": 92,
     "metadata": {},
     "output_type": "execute_result"
    }
   ],
   "source": [
    "# Model Prediction\n",
    "\n",
    "Test_Pred = Model.predict(testX)\n",
    "Test_Pred[0:6]\n",
    "testY[:6]\n"
   ]
  },
  {
   "cell_type": "code",
   "execution_count": 94,
   "metadata": {},
   "outputs": [
    {
     "data": {
      "text/plain": [
       "<matplotlib.axes._subplots.AxesSubplot at 0x23c22f86c18>"
      ]
     },
     "execution_count": 94,
     "metadata": {},
     "output_type": "execute_result"
    },
    {
     "data": {
      "image/png": "[encoded data removed]",
      "text/plain": [
       "<Figure size 432x288 with 1 Axes>"
      ]
     },
     "metadata": {
      "needs_background": "light"
     },
     "output_type": "display_data"
    }
   ],
   "source": [
    "# Model Diagnostic Plots (Validating the assumptions)\n",
    "\n",
    "import seaborn as sns\n",
    "\n",
    "# Homoskedasticity check\n",
    "sns.scatterplot(Model.fittedvalues, Model.resid) # Should not show prominent non-constant variance (heteroskadastic) of errors against fitted values"
   ]
  },
  {
   "cell_type": "code",
   "execution_count": 95,
   "metadata": {},
   "outputs": [
    {
     "name": "stderr",
     "output_type": "stream",
     "text": [
      "C:\\Users\\nvnik\\Anaconda3\\lib\\site-packages\\scipy\\stats\\stats.py:1713: FutureWarning: Using a non-tuple sequence for multidimensional indexing is deprecated; use `arr[tuple(seq)]` instead of `arr[seq]`. In the future this will be interpreted as an array index, `arr[np.array(seq)]`, which will result either in an error or a different result.\n",
      "  return np.add.reduce(sorted[indexer] * weights, axis=axis) / sumval\n"
     ]
    },
    {
     "data": {
      "text/plain": [
       "<matplotlib.axes._subplots.AxesSubplot at 0x23c24963198>"
      ]
     },
     "execution_count": 95,
     "metadata": {},
     "output_type": "execute_result"
    },
    {
     "data": {
      "image/png": "[encoded data removed]",
      "text/plain": [
       "<Figure size 432x288 with 1 Axes>"
      ]
     },
     "metadata": {
      "needs_background": "light"
     },
     "output_type": "display_data"
    }
   ],
   "source": [
    "# Normality of errors check\n",
    "sns.distplot(Model.resid) # Should be somewhat close to normal distribution"
   ]
  },
  {
   "cell_type": "code",
   "execution_count": 96,
   "metadata": {},
   "outputs": [
    {
     "data": {
      "text/plain": [
       "54025.25318045377"
      ]
     },
     "execution_count": 96,
     "metadata": {},
     "output_type": "execute_result"
    }
   ],
   "source": [
    "# Model Evaluation\n",
    "\n",
    "# RMSE\n",
    "np.sqrt(np.mean((testY - Test_Pred)**2))"
   ]
  },
  {
   "cell_type": "code",
   "execution_count": null,
   "metadata": {},
   "outputs": [],
   "source": [
    "# This means on an \"average\", the house price prediction would have +/- error of about 54025\n",
    "\n",
    "# Now, is this a good model? Probably an \"Average\" model. If I told you your house was going to sell for $300,000 and \n",
    "# then it actually only sold for $244,000 (Roughly $56,000 error), you would be pretty mad. $56,000 is a \n",
    "# reasonable difference when you're buying/selling a home. \n",
    "# if the prediction is $300000, then the house would be sold somewhere between $244000 and $356000 \n",
    "# But what if I told you that I could predict GDP (Gross Domestic Product) \n",
    "# of the US with only an average error of $56000? Well, since the GDPs are usually around $20 trillion, \n",
    "# that difference (of $56,000) wouldn't be so big. So, an RMSE of $56,000 would be acceptable in a GDP model but not \n",
    "# in Property prediction model like ours! So, there is a bit of relativity involved in RMSE values."
   ]
  },
  {
   "cell_type": "code",
   "execution_count": 97,
   "metadata": {},
   "outputs": [
    {
     "data": {
      "text/plain": [
       "12.987715265435959"
      ]
     },
     "execution_count": 97,
     "metadata": {},
     "output_type": "execute_result"
    }
   ],
   "source": [
    "# MAPE (Mean Absolute Percentage Error)\n",
    "(np.mean(np.abs(((testY - Test_Pred)/testY))))*100"
   ]
  },
  {
   "cell_type": "code",
   "execution_count": null,
   "metadata": {},
   "outputs": [],
   "source": [
    "# This means on an \"average\", the house price prediction would have +/- error of 12%\n",
    "\n",
    "# Generally, MAPE under 10% is considered very good, and anything under 20% is reasonable.\n",
    "# MAPE over 20% is usually not considered great."
   ]
  }
 ],
 "metadata": {
  "kernelspec": {
   "display_name": "Python 3",
   "language": "python",
   "name": "python3"
  },
  "language_info": {
   "codemirror_mode": {
    "name": "ipython",
    "version": 3
   },
   "file_extension": ".py",
   "mimetype": "text/x-python",
   "name": "python",
   "nbconvert_exporter": "python",
   "pygments_lexer": "ipython3",
   "version": "3.7.0"
  }
 },
 "nbformat": 4,
 "nbformat_minor": 2
}
